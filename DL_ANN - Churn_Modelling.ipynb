{
 "cells": [
  {
   "cell_type": "markdown",
   "metadata": {},
   "source": [
    "# 1st Artificial Neural Network"
   ]
  },
  {
   "cell_type": "code",
   "execution_count": 1,
   "metadata": {},
   "outputs": [],
   "source": [
    "# Importing the libraries\n",
    "import numpy as np\n",
    "import matplotlib.pyplot as plt\n",
    "import pandas as pd"
   ]
  },
  {
   "cell_type": "code",
   "execution_count": 2,
   "metadata": {},
   "outputs": [],
   "source": [
    "# Importing the dataset\n",
    "dataset = pd.read_csv('C:\\\\Users\\\\Shariq\\\\DATAS\\\\Folder_DL\\\\Churn_Modelling.csv')"
   ]
  },
  {
   "cell_type": "code",
   "execution_count": 3,
   "metadata": {},
   "outputs": [
    {
     "data": {
      "text/html": [
       "<div>\n",
       "<style scoped>\n",
       "    .dataframe tbody tr th:only-of-type {\n",
       "        vertical-align: middle;\n",
       "    }\n",
       "\n",
       "    .dataframe tbody tr th {\n",
       "        vertical-align: top;\n",
       "    }\n",
       "\n",
       "    .dataframe thead th {\n",
       "        text-align: right;\n",
       "    }\n",
       "</style>\n",
       "<table border=\"1\" class=\"dataframe\">\n",
       "  <thead>\n",
       "    <tr style=\"text-align: right;\">\n",
       "      <th></th>\n",
       "      <th>RowNumber</th>\n",
       "      <th>CustomerId</th>\n",
       "      <th>Surname</th>\n",
       "      <th>CreditScore</th>\n",
       "      <th>Geography</th>\n",
       "      <th>Gender</th>\n",
       "      <th>Age</th>\n",
       "      <th>Tenure</th>\n",
       "      <th>Balance</th>\n",
       "      <th>NumOfProducts</th>\n",
       "      <th>HasCrCard</th>\n",
       "      <th>IsActiveMember</th>\n",
       "      <th>EstimatedSalary</th>\n",
       "      <th>Exited</th>\n",
       "    </tr>\n",
       "  </thead>\n",
       "  <tbody>\n",
       "    <tr>\n",
       "      <td>0</td>\n",
       "      <td>1</td>\n",
       "      <td>15634602</td>\n",
       "      <td>Hargrave</td>\n",
       "      <td>619</td>\n",
       "      <td>France</td>\n",
       "      <td>Female</td>\n",
       "      <td>42</td>\n",
       "      <td>2</td>\n",
       "      <td>0.00</td>\n",
       "      <td>1</td>\n",
       "      <td>1</td>\n",
       "      <td>1</td>\n",
       "      <td>101348.88</td>\n",
       "      <td>1</td>\n",
       "    </tr>\n",
       "    <tr>\n",
       "      <td>1</td>\n",
       "      <td>2</td>\n",
       "      <td>15647311</td>\n",
       "      <td>Hill</td>\n",
       "      <td>608</td>\n",
       "      <td>Spain</td>\n",
       "      <td>Female</td>\n",
       "      <td>41</td>\n",
       "      <td>1</td>\n",
       "      <td>83807.86</td>\n",
       "      <td>1</td>\n",
       "      <td>0</td>\n",
       "      <td>1</td>\n",
       "      <td>112542.58</td>\n",
       "      <td>0</td>\n",
       "    </tr>\n",
       "    <tr>\n",
       "      <td>2</td>\n",
       "      <td>3</td>\n",
       "      <td>15619304</td>\n",
       "      <td>Onio</td>\n",
       "      <td>502</td>\n",
       "      <td>France</td>\n",
       "      <td>Female</td>\n",
       "      <td>42</td>\n",
       "      <td>8</td>\n",
       "      <td>159660.80</td>\n",
       "      <td>3</td>\n",
       "      <td>1</td>\n",
       "      <td>0</td>\n",
       "      <td>113931.57</td>\n",
       "      <td>1</td>\n",
       "    </tr>\n",
       "    <tr>\n",
       "      <td>3</td>\n",
       "      <td>4</td>\n",
       "      <td>15701354</td>\n",
       "      <td>Boni</td>\n",
       "      <td>699</td>\n",
       "      <td>France</td>\n",
       "      <td>Female</td>\n",
       "      <td>39</td>\n",
       "      <td>1</td>\n",
       "      <td>0.00</td>\n",
       "      <td>2</td>\n",
       "      <td>0</td>\n",
       "      <td>0</td>\n",
       "      <td>93826.63</td>\n",
       "      <td>0</td>\n",
       "    </tr>\n",
       "    <tr>\n",
       "      <td>4</td>\n",
       "      <td>5</td>\n",
       "      <td>15737888</td>\n",
       "      <td>Mitchell</td>\n",
       "      <td>850</td>\n",
       "      <td>Spain</td>\n",
       "      <td>Female</td>\n",
       "      <td>43</td>\n",
       "      <td>2</td>\n",
       "      <td>125510.82</td>\n",
       "      <td>1</td>\n",
       "      <td>1</td>\n",
       "      <td>1</td>\n",
       "      <td>79084.10</td>\n",
       "      <td>0</td>\n",
       "    </tr>\n",
       "  </tbody>\n",
       "</table>\n",
       "</div>"
      ],
      "text/plain": [
       "   RowNumber  CustomerId   Surname  CreditScore Geography  Gender  Age  \\\n",
       "0          1    15634602  Hargrave          619    France  Female   42   \n",
       "1          2    15647311      Hill          608     Spain  Female   41   \n",
       "2          3    15619304      Onio          502    France  Female   42   \n",
       "3          4    15701354      Boni          699    France  Female   39   \n",
       "4          5    15737888  Mitchell          850     Spain  Female   43   \n",
       "\n",
       "   Tenure    Balance  NumOfProducts  HasCrCard  IsActiveMember  \\\n",
       "0       2       0.00              1          1               1   \n",
       "1       1   83807.86              1          0               1   \n",
       "2       8  159660.80              3          1               0   \n",
       "3       1       0.00              2          0               0   \n",
       "4       2  125510.82              1          1               1   \n",
       "\n",
       "   EstimatedSalary  Exited  \n",
       "0        101348.88       1  \n",
       "1        112542.58       0  \n",
       "2        113931.57       1  \n",
       "3         93826.63       0  \n",
       "4         79084.10       0  "
      ]
     },
     "execution_count": 3,
     "metadata": {},
     "output_type": "execute_result"
    }
   ],
   "source": [
    "dataset.head()"
   ]
  },
  {
   "cell_type": "code",
   "execution_count": 4,
   "metadata": {},
   "outputs": [],
   "source": [
    "X = dataset.iloc[:, 3:13]\n",
    "y = dataset.iloc[:, 13]"
   ]
  },
  {
   "cell_type": "code",
   "execution_count": 5,
   "metadata": {},
   "outputs": [],
   "source": [
    "#Create dummy variables\n",
    "geography=pd.get_dummies(X[\"Geography\"],drop_first=True)\n",
    "gender=pd.get_dummies(X['Gender'],drop_first=True)"
   ]
  },
  {
   "cell_type": "code",
   "execution_count": 6,
   "metadata": {},
   "outputs": [],
   "source": [
    "## Concatenate the Data Frames\n",
    "X=pd.concat([X,geography,gender],axis=1)"
   ]
  },
  {
   "cell_type": "code",
   "execution_count": 7,
   "metadata": {},
   "outputs": [],
   "source": [
    "## Drop Unnecessary columns\n",
    "X=X.drop(['Geography','Gender'],axis=1)"
   ]
  },
  {
   "cell_type": "code",
   "execution_count": 8,
   "metadata": {},
   "outputs": [],
   "source": [
    "# Splitting the dataset into the Training set and Test set\n",
    "from sklearn.model_selection import train_test_split\n",
    "X_train, X_test, y_train, y_test = train_test_split(X, y, test_size = 0.2, random_state = 0)"
   ]
  },
  {
   "cell_type": "code",
   "execution_count": 9,
   "metadata": {},
   "outputs": [],
   "source": [
    "# Feature Scaling\n",
    "from sklearn.preprocessing import StandardScaler\n",
    "sc = StandardScaler()\n",
    "X_train = sc.fit_transform(X_train)\n",
    "X_test = sc.transform(X_test)"
   ]
  },
  {
   "cell_type": "code",
   "execution_count": 10,
   "metadata": {},
   "outputs": [
    {
     "name": "stderr",
     "output_type": "stream",
     "text": [
      "Using TensorFlow backend.\n"
     ]
    }
   ],
   "source": [
    "# Importing the Keras libraries and packages\n",
    "import keras\n",
    "from keras.models import Sequential\n",
    "from keras.layers import Dense\n",
    "from keras.layers import LeakyReLU,PReLU,ELU\n",
    "from keras.layers import Dropout"
   ]
  },
  {
   "cell_type": "code",
   "execution_count": 11,
   "metadata": {},
   "outputs": [],
   "source": [
    "# Initialising the ANN\n",
    "classifier = Sequential()"
   ]
  },
  {
   "cell_type": "code",
   "execution_count": 12,
   "metadata": {},
   "outputs": [],
   "source": [
    "# Adding the input layer and the first hidden layer\n",
    "classifier.add(Dense(units = 6, kernel_initializer = 'he_uniform',activation='relu',input_dim = 11))\n",
    "\n",
    "# Adding the second hidden layer\n",
    "classifier.add(Dense(units = 6, kernel_initializer = 'he_uniform',activation='relu'))\n",
    "\n",
    "# Adding the output layer\n",
    "classifier.add(Dense(units = 1, kernel_initializer = 'glorot_uniform', activation = 'sigmoid'))\n"
   ]
  },
  {
   "cell_type": "code",
   "execution_count": 13,
   "metadata": {},
   "outputs": [
    {
     "name": "stdout",
     "output_type": "stream",
     "text": [
      "Model: \"sequential_1\"\n",
      "_________________________________________________________________\n",
      "Layer (type)                 Output Shape              Param #   \n",
      "=================================================================\n",
      "dense_1 (Dense)              (None, 6)                 72        \n",
      "_________________________________________________________________\n",
      "dense_2 (Dense)              (None, 6)                 42        \n",
      "_________________________________________________________________\n",
      "dense_3 (Dense)              (None, 1)                 7         \n",
      "=================================================================\n",
      "Total params: 121\n",
      "Trainable params: 121\n",
      "Non-trainable params: 0\n",
      "_________________________________________________________________\n"
     ]
    }
   ],
   "source": [
    "classifier.summary()"
   ]
  },
  {
   "cell_type": "code",
   "execution_count": 14,
   "metadata": {},
   "outputs": [],
   "source": [
    "# Compiling the ANN\n",
    "classifier.compile(optimizer = 'Adamax', loss = 'binary_crossentropy', metrics = ['accuracy'])"
   ]
  },
  {
   "cell_type": "code",
   "execution_count": 15,
   "metadata": {},
   "outputs": [
    {
     "name": "stdout",
     "output_type": "stream",
     "text": [
      "Train on 5359 samples, validate on 2641 samples\n",
      "Epoch 1/100\n",
      "5359/5359 [==============================] - 2s 317us/step - loss: 0.5650 - accuracy: 0.7572 - val_loss: 0.5032 - val_accuracy: 0.7891\n",
      "Epoch 2/100\n",
      "5359/5359 [==============================] - 1s 275us/step - loss: 0.4908 - accuracy: 0.7919 - val_loss: 0.4756 - val_accuracy: 0.7929\n",
      "Epoch 3/100\n",
      "5359/5359 [==============================] - 1s 245us/step - loss: 0.4677 - accuracy: 0.7940 - val_loss: 0.4617 - val_accuracy: 0.7914\n",
      "Epoch 4/100\n",
      "5359/5359 [==============================] - 1s 243us/step - loss: 0.4535 - accuracy: 0.7951 - val_loss: 0.4530 - val_accuracy: 0.7940\n",
      "Epoch 5/100\n",
      "5359/5359 [==============================] - 1s 251us/step - loss: 0.4430 - accuracy: 0.7987 - val_loss: 0.4470 - val_accuracy: 0.7929\n",
      "Epoch 6/100\n",
      "5359/5359 [==============================] - 1s 250us/step - loss: 0.4361 - accuracy: 0.8015 - val_loss: 0.4439 - val_accuracy: 0.7944\n",
      "Epoch 7/100\n",
      "5359/5359 [==============================] - 1s 244us/step - loss: 0.4314 - accuracy: 0.8035 - val_loss: 0.4418 - val_accuracy: 0.7940\n",
      "Epoch 8/100\n",
      "5359/5359 [==============================] - 1s 243us/step - loss: 0.4280 - accuracy: 0.8067 - val_loss: 0.4402 - val_accuracy: 0.7959\n",
      "Epoch 9/100\n",
      "5359/5359 [==============================] - 1s 247us/step - loss: 0.4256 - accuracy: 0.8072 - val_loss: 0.4387 - val_accuracy: 0.7952\n",
      "Epoch 10/100\n",
      "5359/5359 [==============================] - 1s 246us/step - loss: 0.4232 - accuracy: 0.8069 - val_loss: 0.4376 - val_accuracy: 0.7963\n",
      "Epoch 11/100\n",
      "5359/5359 [==============================] - 1s 252us/step - loss: 0.4213 - accuracy: 0.8085 - val_loss: 0.4368 - val_accuracy: 0.7967\n",
      "Epoch 12/100\n",
      "5359/5359 [==============================] - 1s 246us/step - loss: 0.4198 - accuracy: 0.8104 - val_loss: 0.4351 - val_accuracy: 0.7978\n",
      "Epoch 13/100\n",
      "5359/5359 [==============================] - 1s 246us/step - loss: 0.4182 - accuracy: 0.8123 - val_loss: 0.4339 - val_accuracy: 0.7997\n",
      "Epoch 14/100\n",
      "5359/5359 [==============================] - 1s 248us/step - loss: 0.4165 - accuracy: 0.8127 - val_loss: 0.4329 - val_accuracy: 0.7993\n",
      "Epoch 15/100\n",
      "5359/5359 [==============================] - 2s 313us/step - loss: 0.4147 - accuracy: 0.8130 - val_loss: 0.4323 - val_accuracy: 0.7997\n",
      "Epoch 16/100\n",
      "5359/5359 [==============================] - 2s 315us/step - loss: 0.4135 - accuracy: 0.8143 - val_loss: 0.4315 - val_accuracy: 0.7986\n",
      "Epoch 17/100\n",
      "5359/5359 [==============================] - 2s 305us/step - loss: 0.4121 - accuracy: 0.8153 - val_loss: 0.4310 - val_accuracy: 0.8008\n",
      "Epoch 18/100\n",
      "5359/5359 [==============================] - 1s 255us/step - loss: 0.4106 - accuracy: 0.8162 - val_loss: 0.4299 - val_accuracy: 0.7997\n",
      "Epoch 19/100\n",
      "5359/5359 [==============================] - 1s 244us/step - loss: 0.4094 - accuracy: 0.8158 - val_loss: 0.4292 - val_accuracy: 0.8012\n",
      "Epoch 20/100\n",
      "5359/5359 [==============================] - 1s 248us/step - loss: 0.4080 - accuracy: 0.8173 - val_loss: 0.4283 - val_accuracy: 0.8020\n",
      "Epoch 21/100\n",
      "5359/5359 [==============================] - 1s 247us/step - loss: 0.4064 - accuracy: 0.8169 - val_loss: 0.4271 - val_accuracy: 0.8023\n",
      "Epoch 22/100\n",
      "5359/5359 [==============================] - 1s 254us/step - loss: 0.4049 - accuracy: 0.8190 - val_loss: 0.4256 - val_accuracy: 0.8039\n",
      "Epoch 23/100\n",
      "5359/5359 [==============================] - 1s 249us/step - loss: 0.4030 - accuracy: 0.8196 - val_loss: 0.4240 - val_accuracy: 0.8054\n",
      "Epoch 24/100\n",
      "5359/5359 [==============================] - 1s 246us/step - loss: 0.4013 - accuracy: 0.8203 - val_loss: 0.4224 - val_accuracy: 0.8080\n",
      "Epoch 25/100\n",
      "5359/5359 [==============================] - 1s 245us/step - loss: 0.3994 - accuracy: 0.8205 - val_loss: 0.4203 - val_accuracy: 0.8069\n",
      "Epoch 26/100\n",
      "5359/5359 [==============================] - 1s 248us/step - loss: 0.3973 - accuracy: 0.8205 - val_loss: 0.4184 - val_accuracy: 0.8065\n",
      "Epoch 27/100\n",
      "5359/5359 [==============================] - 1s 244us/step - loss: 0.3951 - accuracy: 0.8210 - val_loss: 0.4174 - val_accuracy: 0.8054\n",
      "Epoch 28/100\n",
      "5359/5359 [==============================] - 1s 249us/step - loss: 0.3934 - accuracy: 0.8209 - val_loss: 0.4145 - val_accuracy: 0.8103\n",
      "Epoch 29/100\n",
      "5359/5359 [==============================] - 1s 250us/step - loss: 0.3914 - accuracy: 0.8210 - val_loss: 0.4122 - val_accuracy: 0.8095\n",
      "Epoch 30/100\n",
      "5359/5359 [==============================] - 1s 248us/step - loss: 0.3888 - accuracy: 0.8233 - val_loss: 0.4097 - val_accuracy: 0.8099\n",
      "Epoch 31/100\n",
      "5359/5359 [==============================] - 1s 245us/step - loss: 0.3860 - accuracy: 0.8235 - val_loss: 0.4067 - val_accuracy: 0.8114\n",
      "Epoch 32/100\n",
      "5359/5359 [==============================] - 1s 251us/step - loss: 0.3831 - accuracy: 0.8263 - val_loss: 0.4030 - val_accuracy: 0.8133\n",
      "Epoch 33/100\n",
      "5359/5359 [==============================] - 1s 245us/step - loss: 0.3804 - accuracy: 0.8293 - val_loss: 0.3991 - val_accuracy: 0.8266\n",
      "Epoch 34/100\n",
      "5359/5359 [==============================] - 1s 247us/step - loss: 0.3773 - accuracy: 0.8375 - val_loss: 0.3961 - val_accuracy: 0.8304\n",
      "Epoch 35/100\n",
      "5359/5359 [==============================] - 1s 250us/step - loss: 0.3742 - accuracy: 0.8362 - val_loss: 0.3932 - val_accuracy: 0.8330\n",
      "Epoch 36/100\n",
      "5359/5359 [==============================] - 1s 248us/step - loss: 0.3716 - accuracy: 0.8377 - val_loss: 0.3907 - val_accuracy: 0.8307\n",
      "Epoch 37/100\n",
      "5359/5359 [==============================] - 1s 248us/step - loss: 0.3687 - accuracy: 0.8397 - val_loss: 0.3891 - val_accuracy: 0.8334\n",
      "Epoch 38/100\n",
      "5359/5359 [==============================] - 1s 246us/step - loss: 0.3670 - accuracy: 0.8416 - val_loss: 0.3862 - val_accuracy: 0.8345\n",
      "Epoch 39/100\n",
      "5359/5359 [==============================] - 1s 247us/step - loss: 0.3648 - accuracy: 0.8431 - val_loss: 0.3845 - val_accuracy: 0.8368\n",
      "Epoch 40/100\n",
      "5359/5359 [==============================] - 1s 246us/step - loss: 0.3629 - accuracy: 0.8446 - val_loss: 0.3826 - val_accuracy: 0.8368\n",
      "Epoch 41/100\n",
      "5359/5359 [==============================] - 1s 251us/step - loss: 0.3613 - accuracy: 0.8464 - val_loss: 0.3817 - val_accuracy: 0.8395\n",
      "Epoch 42/100\n",
      "5359/5359 [==============================] - 1s 245us/step - loss: 0.3597 - accuracy: 0.8477 - val_loss: 0.3801 - val_accuracy: 0.8402\n",
      "Epoch 43/100\n",
      "5359/5359 [==============================] - 1s 246us/step - loss: 0.3578 - accuracy: 0.8492 - val_loss: 0.3791 - val_accuracy: 0.8406\n",
      "Epoch 44/100\n",
      "5359/5359 [==============================] - 1s 251us/step - loss: 0.3560 - accuracy: 0.8507 - val_loss: 0.3777 - val_accuracy: 0.8436\n",
      "Epoch 45/100\n",
      "5359/5359 [==============================] - 1s 248us/step - loss: 0.3543 - accuracy: 0.8533 - val_loss: 0.3766 - val_accuracy: 0.8432\n",
      "Epoch 46/100\n",
      "5359/5359 [==============================] - 1s 248us/step - loss: 0.3527 - accuracy: 0.8526 - val_loss: 0.3752 - val_accuracy: 0.8436\n",
      "Epoch 47/100\n",
      "5359/5359 [==============================] - 1s 248us/step - loss: 0.3512 - accuracy: 0.8539 - val_loss: 0.3740 - val_accuracy: 0.8436\n",
      "Epoch 48/100\n",
      "5359/5359 [==============================] - 1s 247us/step - loss: 0.3499 - accuracy: 0.8543 - val_loss: 0.3728 - val_accuracy: 0.8444\n",
      "Epoch 49/100\n",
      "5359/5359 [==============================] - 1s 244us/step - loss: 0.3486 - accuracy: 0.8556 - val_loss: 0.3720 - val_accuracy: 0.8440\n",
      "Epoch 50/100\n",
      "5359/5359 [==============================] - 1s 254us/step - loss: 0.3474 - accuracy: 0.8563 - val_loss: 0.3718 - val_accuracy: 0.8429\n",
      "Epoch 51/100\n",
      "5359/5359 [==============================] - 1s 246us/step - loss: 0.3463 - accuracy: 0.8567 - val_loss: 0.3704 - val_accuracy: 0.8466\n",
      "Epoch 52/100\n",
      "5359/5359 [==============================] - 1s 247us/step - loss: 0.3448 - accuracy: 0.8571 - val_loss: 0.3700 - val_accuracy: 0.8455\n",
      "Epoch 53/100\n",
      "5359/5359 [==============================] - 1s 249us/step - loss: 0.3444 - accuracy: 0.8569 - val_loss: 0.3686 - val_accuracy: 0.8493\n",
      "Epoch 54/100\n",
      "5359/5359 [==============================] - 1s 244us/step - loss: 0.3434 - accuracy: 0.8569 - val_loss: 0.3678 - val_accuracy: 0.8512\n",
      "Epoch 55/100\n",
      "5359/5359 [==============================] - 1s 245us/step - loss: 0.3425 - accuracy: 0.8578 - val_loss: 0.3668 - val_accuracy: 0.8538\n",
      "Epoch 56/100\n"
     ]
    },
    {
     "name": "stdout",
     "output_type": "stream",
     "text": [
      "5359/5359 [==============================] - 1s 243us/step - loss: 0.3419 - accuracy: 0.8586 - val_loss: 0.3659 - val_accuracy: 0.8546\n",
      "Epoch 57/100\n",
      "5359/5359 [==============================] - 1s 250us/step - loss: 0.3410 - accuracy: 0.8591 - val_loss: 0.3655 - val_accuracy: 0.8535\n",
      "Epoch 58/100\n",
      "5359/5359 [==============================] - 1s 244us/step - loss: 0.3405 - accuracy: 0.8584 - val_loss: 0.3645 - val_accuracy: 0.8550\n",
      "Epoch 59/100\n",
      "5359/5359 [==============================] - 1s 243us/step - loss: 0.3400 - accuracy: 0.8586 - val_loss: 0.3638 - val_accuracy: 0.8554\n",
      "Epoch 60/100\n",
      "5359/5359 [==============================] - 1s 247us/step - loss: 0.3394 - accuracy: 0.8597 - val_loss: 0.3634 - val_accuracy: 0.8565\n",
      "Epoch 61/100\n",
      "5359/5359 [==============================] - 1s 249us/step - loss: 0.3388 - accuracy: 0.8599 - val_loss: 0.3631 - val_accuracy: 0.8569\n",
      "Epoch 62/100\n",
      "5359/5359 [==============================] - 1s 274us/step - loss: 0.3387 - accuracy: 0.8584 - val_loss: 0.3622 - val_accuracy: 0.8557\n",
      "Epoch 63/100\n",
      "5359/5359 [==============================] - 2s 320us/step - loss: 0.3380 - accuracy: 0.8589 - val_loss: 0.3618 - val_accuracy: 0.8573\n",
      "Epoch 64/100\n",
      "5359/5359 [==============================] - 2s 353us/step - loss: 0.3376 - accuracy: 0.8600 - val_loss: 0.3615 - val_accuracy: 0.8576\n",
      "Epoch 65/100\n",
      "5359/5359 [==============================] - 2s 304us/step - loss: 0.3374 - accuracy: 0.8589 - val_loss: 0.3610 - val_accuracy: 0.8565\n",
      "Epoch 66/100\n",
      "5359/5359 [==============================] - 1s 278us/step - loss: 0.3371 - accuracy: 0.8597 - val_loss: 0.3604 - val_accuracy: 0.8565\n",
      "Epoch 67/100\n",
      "5359/5359 [==============================] - 2s 292us/step - loss: 0.3367 - accuracy: 0.8608 - val_loss: 0.3602 - val_accuracy: 0.8554\n",
      "Epoch 68/100\n",
      "5359/5359 [==============================] - 1s 270us/step - loss: 0.3363 - accuracy: 0.8597 - val_loss: 0.3597 - val_accuracy: 0.8576\n",
      "Epoch 69/100\n",
      "5359/5359 [==============================] - 1s 262us/step - loss: 0.3361 - accuracy: 0.8608 - val_loss: 0.3594 - val_accuracy: 0.8573\n",
      "Epoch 70/100\n",
      "5359/5359 [==============================] - 1s 246us/step - loss: 0.3359 - accuracy: 0.8606 - val_loss: 0.3589 - val_accuracy: 0.8569\n",
      "Epoch 71/100\n",
      "5359/5359 [==============================] - 1s 243us/step - loss: 0.3354 - accuracy: 0.8600 - val_loss: 0.3580 - val_accuracy: 0.8576\n",
      "Epoch 72/100\n",
      "5359/5359 [==============================] - 1s 244us/step - loss: 0.3347 - accuracy: 0.8614 - val_loss: 0.3582 - val_accuracy: 0.8603\n",
      "Epoch 73/100\n",
      "5359/5359 [==============================] - 1s 244us/step - loss: 0.3347 - accuracy: 0.8628 - val_loss: 0.3573 - val_accuracy: 0.8595\n",
      "Epoch 74/100\n",
      "5359/5359 [==============================] - 1s 253us/step - loss: 0.3346 - accuracy: 0.8610 - val_loss: 0.3572 - val_accuracy: 0.8603\n",
      "Epoch 75/100\n",
      "5359/5359 [==============================] - 1s 248us/step - loss: 0.3343 - accuracy: 0.8612 - val_loss: 0.3566 - val_accuracy: 0.8591\n",
      "Epoch 76/100\n",
      "5359/5359 [==============================] - 1s 246us/step - loss: 0.3339 - accuracy: 0.8623 - val_loss: 0.3562 - val_accuracy: 0.8618\n",
      "Epoch 77/100\n",
      "5359/5359 [==============================] - 1s 244us/step - loss: 0.3338 - accuracy: 0.8615 - val_loss: 0.3561 - val_accuracy: 0.8618\n",
      "Epoch 78/100\n",
      "5359/5359 [==============================] - 1s 248us/step - loss: 0.3334 - accuracy: 0.8630 - val_loss: 0.3556 - val_accuracy: 0.8626\n",
      "Epoch 79/100\n",
      "5359/5359 [==============================] - 1s 246us/step - loss: 0.3332 - accuracy: 0.8628 - val_loss: 0.3556 - val_accuracy: 0.8607\n",
      "Epoch 80/100\n",
      "5359/5359 [==============================] - 1s 249us/step - loss: 0.3332 - accuracy: 0.8634 - val_loss: 0.3550 - val_accuracy: 0.8607\n",
      "Epoch 81/100\n",
      "5359/5359 [==============================] - 1s 246us/step - loss: 0.3328 - accuracy: 0.8632 - val_loss: 0.3546 - val_accuracy: 0.8607\n",
      "Epoch 82/100\n",
      "5359/5359 [==============================] - 1s 245us/step - loss: 0.3327 - accuracy: 0.8617 - val_loss: 0.3543 - val_accuracy: 0.8618\n",
      "Epoch 83/100\n",
      "5359/5359 [==============================] - 1s 247us/step - loss: 0.3327 - accuracy: 0.8632 - val_loss: 0.3542 - val_accuracy: 0.8610\n",
      "Epoch 84/100\n",
      "5359/5359 [==============================] - 1s 245us/step - loss: 0.3324 - accuracy: 0.8636 - val_loss: 0.3541 - val_accuracy: 0.8603\n",
      "Epoch 85/100\n",
      "5359/5359 [==============================] - 1s 246us/step - loss: 0.3323 - accuracy: 0.8632 - val_loss: 0.3548 - val_accuracy: 0.8607\n",
      "Epoch 86/100\n",
      "5359/5359 [==============================] - 1s 247us/step - loss: 0.3323 - accuracy: 0.8638 - val_loss: 0.3541 - val_accuracy: 0.8629\n",
      "Epoch 87/100\n",
      "5359/5359 [==============================] - 1s 244us/step - loss: 0.3320 - accuracy: 0.8634 - val_loss: 0.3540 - val_accuracy: 0.8622\n",
      "Epoch 88/100\n",
      "5359/5359 [==============================] - 1s 248us/step - loss: 0.3318 - accuracy: 0.8634 - val_loss: 0.3540 - val_accuracy: 0.8626\n",
      "Epoch 89/100\n",
      "5359/5359 [==============================] - 1s 248us/step - loss: 0.3318 - accuracy: 0.8642 - val_loss: 0.3539 - val_accuracy: 0.8603\n",
      "Epoch 90/100\n",
      "5359/5359 [==============================] - 1s 245us/step - loss: 0.3315 - accuracy: 0.8645 - val_loss: 0.3539 - val_accuracy: 0.8607\n",
      "Epoch 91/100\n",
      "5359/5359 [==============================] - 1s 245us/step - loss: 0.3315 - accuracy: 0.8643 - val_loss: 0.3538 - val_accuracy: 0.8618\n",
      "Epoch 92/100\n",
      "5359/5359 [==============================] - 1s 255us/step - loss: 0.3315 - accuracy: 0.8642 - val_loss: 0.3537 - val_accuracy: 0.8618\n",
      "Epoch 93/100\n",
      "5359/5359 [==============================] - 1s 244us/step - loss: 0.3311 - accuracy: 0.8643 - val_loss: 0.3537 - val_accuracy: 0.8618\n",
      "Epoch 94/100\n",
      "5359/5359 [==============================] - 1s 252us/step - loss: 0.3313 - accuracy: 0.8647 - val_loss: 0.3534 - val_accuracy: 0.8618\n",
      "Epoch 95/100\n",
      "5359/5359 [==============================] - 1s 246us/step - loss: 0.3311 - accuracy: 0.8643 - val_loss: 0.3535 - val_accuracy: 0.8607\n",
      "Epoch 96/100\n",
      "5359/5359 [==============================] - 1s 246us/step - loss: 0.3311 - accuracy: 0.8643 - val_loss: 0.3528 - val_accuracy: 0.8622\n",
      "Epoch 97/100\n",
      "5359/5359 [==============================] - 1s 244us/step - loss: 0.3307 - accuracy: 0.8640 - val_loss: 0.3530 - val_accuracy: 0.8618\n",
      "Epoch 98/100\n",
      "5359/5359 [==============================] - 1s 245us/step - loss: 0.3307 - accuracy: 0.8634 - val_loss: 0.3527 - val_accuracy: 0.8622\n",
      "Epoch 99/100\n",
      "5359/5359 [==============================] - 1s 248us/step - loss: 0.3305 - accuracy: 0.8649 - val_loss: 0.3530 - val_accuracy: 0.8610\n",
      "Epoch 100/100\n",
      "5359/5359 [==============================] - 1s 245us/step - loss: 0.3307 - accuracy: 0.8642 - val_loss: 0.3533 - val_accuracy: 0.8626\n"
     ]
    }
   ],
   "source": [
    "# Fitting the ANN to the Training set\n",
    "model_history=classifier.fit(X_train, y_train,validation_split=0.33, batch_size = 10, epochs = 100)"
   ]
  },
  {
   "cell_type": "code",
   "execution_count": 16,
   "metadata": {},
   "outputs": [
    {
     "name": "stdout",
     "output_type": "stream",
     "text": [
      "dict_keys(['val_loss', 'val_accuracy', 'loss', 'accuracy'])\n"
     ]
    },
    {
     "data": {
      "image/png": "[encoded data removed]",
      "text/plain": [
       "<Figure size 432x288 with 1 Axes>"
      ]
     },
     "metadata": {
      "needs_background": "light"
     },
     "output_type": "display_data"
    }
   ],
   "source": [
    "# list all data in history\n",
    "print(model_history.history.keys())\n",
    "\n",
    "# summarize history for accuracy\n",
    "plt.plot(model_history.history['accuracy'])\n",
    "plt.plot(model_history.history['val_accuracy'])\n",
    "plt.title('model accuracy')\n",
    "plt.ylabel('accuracy')\n",
    "plt.xlabel('epoch')\n",
    "plt.legend(['train', 'test'], loc='upper left')\n",
    "plt.show()\n"
   ]
  },
  {
   "cell_type": "code",
   "execution_count": 17,
   "metadata": {},
   "outputs": [
    {
     "data": {
      "image/png": "[encoded data removed]",
      "text/plain": [
       "<Figure size 432x288 with 1 Axes>"
      ]
     },
     "metadata": {
      "needs_background": "light"
     },
     "output_type": "display_data"
    }
   ],
   "source": [
    "# summarize history for loss\n",
    "plt.plot(model_history.history['loss'])\n",
    "plt.plot(model_history.history['val_loss'])\n",
    "plt.title('model loss')\n",
    "plt.ylabel('loss')\n",
    "plt.xlabel('epoch')\n",
    "plt.legend(['train', 'test'], loc='upper left')\n",
    "plt.show()"
   ]
  },
  {
   "cell_type": "code",
   "execution_count": 18,
   "metadata": {},
   "outputs": [],
   "source": [
    "# Predicting the Test set results\n",
    "y_pred = classifier.predict(X_test)\n",
    "y_pred = (y_pred > 0.5)"
   ]
  },
  {
   "cell_type": "code",
   "execution_count": 19,
   "metadata": {},
   "outputs": [],
   "source": [
    "# Making the Confusion Matrix\n",
    "from sklearn.metrics import confusion_matrix\n",
    "cm = confusion_matrix(y_test, y_pred)"
   ]
  },
  {
   "cell_type": "code",
   "execution_count": 20,
   "metadata": {},
   "outputs": [
    {
     "name": "stdout",
     "output_type": "stream",
     "text": [
      "[[1516   79]\n",
      " [ 195  210]]\n"
     ]
    }
   ],
   "source": [
    "print(cm)"
   ]
  },
  {
   "cell_type": "code",
   "execution_count": 21,
   "metadata": {},
   "outputs": [],
   "source": [
    "# Calculate the Accuracy\n",
    "from sklearn.metrics import accuracy_score\n",
    "score=accuracy_score(y_pred,y_test)"
   ]
  },
  {
   "cell_type": "code",
   "execution_count": 22,
   "metadata": {},
   "outputs": [
    {
     "name": "stdout",
     "output_type": "stream",
     "text": [
      "0.863\n"
     ]
    }
   ],
   "source": [
    "print(score)"
   ]
  },
  {
   "cell_type": "code",
   "execution_count": null,
   "metadata": {},
   "outputs": [],
   "source": []
  }
 ],
 "metadata": {
  "kernelspec": {
   "display_name": "Python 3",
   "language": "python",
   "name": "python3"
  },
  "language_info": {
   "codemirror_mode": {
    "name": "ipython",
    "version": 3
   },
   "file_extension": ".py",
   "mimetype": "text/x-python",
   "name": "python",
   "nbconvert_exporter": "python",
   "pygments_lexer": "ipython3",
   "version": "3.7.4"
  }
 },
 "nbformat": 4,
 "nbformat_minor": 2
}
